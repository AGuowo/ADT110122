{
 "cells": [
  {
   "cell_type": "code",
   "execution_count": 12,
   "id": "a6860929",
   "metadata": {},
   "outputs": [
    {
     "name": "stdout",
     "output_type": "stream",
     "text": [
      "黃金回售>>> 1993\n",
      "黃金買進>>> 2020\n"
     ]
    }
   ],
   "source": [
    "#黃金賣出\n",
    "import time\n",
    "import urllib.request as request\n",
    "from bs4 import BeautifulSoup as sp\n",
    "\n",
    "local_time = time.ctime(time.time())\n",
    "url=\"https://rate.bot.com.tw/gold?Lang=zh-TW\"\n",
    "\n",
    "with request.urlopen(url) as response:\n",
    "    data=response.read().decode(\"utf-8\")\n",
    "    root=sp(data,\"html.parser\")\n",
    "    gold_in=(root.find_all(\"td\")[5].text.replace(\"回售\",\"\").strip())\n",
    "    print(\"黃金回售>>>\",gold_in)\n",
    "    gold_out=(root.find_all(\"td\")[2].text.replace(\"買進\",\"\").strip()) ###\n",
    "    print(\"黃金買進>>>\",gold_out)\n"
   ]
  },
  {
   "cell_type": "code",
   "execution_count": null,
   "id": "74aa3d11",
   "metadata": {},
   "outputs": [],
   "source": []
  }
 ],
 "metadata": {
  "kernelspec": {
   "display_name": "Python 3 (ipykernel)",
   "language": "python",
   "name": "python3"
  },
  "language_info": {
   "codemirror_mode": {
    "name": "ipython",
    "version": 3
   },
   "file_extension": ".py",
   "mimetype": "text/x-python",
   "name": "python",
   "nbconvert_exporter": "python",
   "pygments_lexer": "ipython3",
   "version": "3.11.5"
  }
 },
 "nbformat": 4,
 "nbformat_minor": 5
}
