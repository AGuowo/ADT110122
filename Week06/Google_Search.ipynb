{
 "cells": [
  {
   "cell_type": "code",
   "execution_count": 1,
   "id": "3bef1992",
   "metadata": {},
   "outputs": [
    {
     "name": "stdout",
     "output_type": "stream",
     "text": [
      "標題：貓- 維基百科，自由的百科全書zh.wikipedia.org › zh-tw › 猫\n",
      "網址：/url?q=https://zh.wikipedia.org/zh-tw/%25E7%258C%25AB&sa=U&ved=2ahUKEwi_hL-7iP-BAxXaE4gKHYCKBpEQFnoECAkQAg&usg=AOvVaw3PhPEdvexdSyzH9kdzHuX_\n",
      "標題：台灣貓咪圖鑑｜貓的個性跟品種有關：虎斑貓悶騷調皮、橘貓愛吃膽小womany.net › 最新文章 › 品味\n",
      "網址：/url?q=https://womany.net/read/article/32310&sa=U&ved=2ahUKEwi_hL-7iP-BAxXaE4gKHYCKBpEQFnoECAoQAg&usg=AOvVaw2b35OcempKTkJzc1IQNHLk\n",
      "標題：跟貓咪24小時不分開  一大早竟然帶我去看這個?!｜傲嬌爸的養貓日常www.youtube.com › watch\n",
      "網址：/url?q=https://www.youtube.com/watch%3Fv%3D33YlUsnV9k4&sa=U&ved=2ahUKEwi_hL-7iP-BAxXaE4gKHYCKBpEQtwJ6BAgDEAE&usg=AOvVaw0yqvQ7Bc851WuOgCYfhUYC\n",
      "標題：\n",
      "網址：/url?q=https://www.youtube.com/watch%3Fv%3D33YlUsnV9k4&sa=U&ved=2ahUKEwi_hL-7iP-BAxXaE4gKHYCKBpEQuAJ6BAgDEAI&usg=AOvVaw0hnZ5GJ9_2IsgvmGKha_gR\n",
      "標題：殘忍！台中大里貓咪集體暴斃懷疑遭人毒殺- 生活 - 自由時報news.ltn.com.tw › news › life › breakingnews\n",
      "網址：/url?q=https://news.ltn.com.tw/news/life/breakingnews/4461157&sa=U&ved=2ahUKEwi_hL-7iP-BAxXaE4gKHYCKBpEQFnoECAEQAg&usg=AOvVaw2en1UpvBJuZl-hvGb_stm2\n",
      "標題：誤以為主人快被淹死！賓士貓嚇到雙腳行走 - Yahoo奇摩新聞tw.news.yahoo.com › 誤以為主人快被淹死-賓士貓嚇到雙腳行走-080819...\n",
      "網址：/url?q=https://tw.news.yahoo.com/%25E8%25AA%25A4%25E4%25BB%25A5%25E7%2582%25BA%25E4%25B8%25BB%25E4%25BA%25BA%25E5%25BF%25AB%25E8%25A2%25AB%25E6%25B7%25B9%25E6%25AD%25BB-%25E8%25B3%2593%25E5%25A3%25AB%25E8%25B2%2593%25E5%259A%2587%25E5%2588%25B0%25E9%259B%2599%25E8%2585%25B3%25E8%25A1%258C%25E8%25B5%25B0-080819108.html&sa=U&ved=2ahUKEwi_hL-7iP-BAxXaE4gKHYCKBpEQFnoECAYQAg&usg=AOvVaw1gejqxD7-BGZ_1VEsyr_aV\n",
      "標題：貓咪要從小養才會親人？獸醫師揭密貓咪親人關鍵是靠「這個」決定health.tvbs.com.tw › 樂生活\n",
      "網址：/url?q=https://health.tvbs.com.tw/life/340581&sa=U&ved=2ahUKEwi_hL-7iP-BAxXaE4gKHYCKBpEQFnoECAcQAg&usg=AOvVaw01YjGjloCcmv8rd1-mcM5E\n",
      "標題：貓咪不思議：285個必備養貓知識 - 博客來www.books.com.tw › products\n",
      "網址：/url?q=https://www.books.com.tw/products/0010954331&sa=U&ved=2ahUKEwi_hL-7iP-BAxXaE4gKHYCKBpEQFnoECAQQAg&usg=AOvVaw0dh7FbmWntyZhdrHzN48Jm\n",
      "標題：貓咪圖案短Teewww.jztee.com › category\n",
      "網址：/url?q=https://www.jztee.com/category/37368&sa=U&ved=2ahUKEwi_hL-7iP-BAxXaE4gKHYCKBpEQFnoECAgQAg&usg=AOvVaw1cVStcjE7IRZPXA-mUS4-z\n",
      "標題：貓咪花色看穿性格！「虎斑是悶騷鬼、黑貓能解決戀愛問題？」摸透 ...www.elle.com › 生活 › 動物好朋友\n",
      "網址：/url?q=https://www.elle.com/tw/life/fluffy/g44102160/cat-color-personality/&sa=U&ved=2ahUKEwi_hL-7iP-BAxXaE4gKHYCKBpEQFnoECAIQAg&usg=AOvVaw2sPG4EyWd6DqIUav65r4-N\n"
     ]
    }
   ],
   "source": [
    "import requests\n",
    "from bs4 import BeautifulSoup\n",
    "\n",
    "google_url = 'https://www.google.com.tw/search'\n",
    "my_params = {'q': '貓咪'}\n",
    "r = requests.get(google_url, params = my_params)\n",
    "soup = BeautifulSoup(r.text, 'html.parser')\n",
    "\n",
    "items = soup.select('div.kCrYT > a[href^=\"/url\"]')\n",
    "\n",
    "for i in items:\n",
    "    print(\"標題：\" + i.text)\n",
    "    print(\"網址：\" + i.get('href'))"
   ]
  }
 ],
 "metadata": {
  "kernelspec": {
   "display_name": "Python 3 (ipykernel)",
   "language": "python",
   "name": "python3"
  },
  "language_info": {
   "codemirror_mode": {
    "name": "ipython",
    "version": 3
   },
   "file_extension": ".py",
   "mimetype": "text/x-python",
   "name": "python",
   "nbconvert_exporter": "python",
   "pygments_lexer": "ipython3",
   "version": "3.11.5"
  }
 },
 "nbformat": 4,
 "nbformat_minor": 5
}
